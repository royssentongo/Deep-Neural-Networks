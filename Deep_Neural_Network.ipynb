{
  "nbformat": 4,
  "nbformat_minor": 0,
  "metadata": {
    "colab": {
      "provenance": [],
      "authorship_tag": "ABX9TyOc2p3cDiiibohyxp4dvuYf",
      "include_colab_link": true
    },
    "kernelspec": {
      "name": "python3",
      "display_name": "Python 3"
    },
    "language_info": {
      "name": "python"
    }
  },
  "cells": [
    {
      "cell_type": "markdown",
      "metadata": {
        "id": "view-in-github",
        "colab_type": "text"
      },
      "source": [
        "<a href=\"https://colab.research.google.com/github/royssentongo/Deep-Neural-Networks/blob/main/Deep_Neural_Network.ipynb\" target=\"_parent\"><img src=\"https://colab.research.google.com/assets/colab-badge.svg\" alt=\"Open In Colab\"/></a>"
      ]
    },
    {
      "cell_type": "markdown",
      "source": [
        "# BUILDING A NEURAL NETWORK"
      ],
      "metadata": {
        "id": "6X0LlPZWqcsb"
      }
    },
    {
      "cell_type": "markdown",
      "source": [
        "## Using Sequential method"
      ],
      "metadata": {
        "id": "fkmFbbDeqjCX"
      }
    },
    {
      "cell_type": "code",
      "source": [
        "# Importing necessary libraries\n",
        "import numpy as np\n",
        "import pandas as pd\n",
        "import matplotlib.pyplot as plt\n",
        "%matplotlib inline\n",
        "from sklearn import metrics # data ste is categorical in the y-variable thus need metrics for evaluating model performance\n",
        "\n",
        "# Importing Tensorflow libraries\n",
        "import tensorflow as tf\n",
        "from tensorflow import keras\n",
        "from tensorflow.keras import Sequential\n",
        "from tensorflow.keras.layers import Dense\n",
        "from tensorflow.keras.datasets import mnist"
      ],
      "metadata": {
        "id": "Sy_zGMeeqh6j"
      },
      "execution_count": null,
      "outputs": []
    },
    {
      "cell_type": "code",
      "source": [
        "# loading the dataset\n",
        "(Xtrain, ytrain), (Xtest, ytest) = mnist.load_data()"
      ],
      "metadata": {
        "colab": {
          "base_uri": "https://localhost:8080/"
        },
        "id": "Bjs_QC3orsdC",
        "outputId": "9eb3e1e1-5653-4bde-e77d-5f2b3ad091ff"
      },
      "execution_count": null,
      "outputs": [
        {
          "output_type": "stream",
          "name": "stdout",
          "text": [
            "Downloading data from https://storage.googleapis.com/tensorflow/tf-keras-datasets/mnist.npz\n",
            "\u001b[1m11490434/11490434\u001b[0m \u001b[32m━━━━━━━━━━━━━━━━━━━━\u001b[0m\u001b[37m\u001b[0m \u001b[1m0s\u001b[0m 0us/step\n"
          ]
        }
      ]
    },
    {
      "cell_type": "code",
      "source": [
        "# Checking the shape of the dataset\n",
        "Xtrain.shape"
      ],
      "metadata": {
        "colab": {
          "base_uri": "https://localhost:8080/"
        },
        "id": "KGLQgcMYr9nx",
        "outputId": "3cbff1fd-c580-433d-e3ae-2b07563a94cc"
      },
      "execution_count": null,
      "outputs": [
        {
          "output_type": "execute_result",
          "data": {
            "text/plain": [
              "(60000, 28, 28)"
            ]
          },
          "metadata": {},
          "execution_count": 4
        }
      ]
    },
    {
      "cell_type": "markdown",
      "source": [
        "The Xtrain data has 60,000 pictures that are of 28 x 28 pixel dimensions"
      ],
      "metadata": {
        "id": "-zptXDNYsJNb"
      }
    },
    {
      "cell_type": "code",
      "source": [
        "# illustrating the second entry in Xtrain set\n",
        "plt.figure(figsize=(2,2))\n",
        "plt.imshow(Xtrain[1,:,:],cmap='gray')"
      ],
      "metadata": {
        "colab": {
          "base_uri": "https://localhost:8080/",
          "height": 235
        },
        "id": "Xm4831J4sQB_",
        "outputId": "399e7f87-5663-4c10-f115-ac597b0e29bf"
      },
      "execution_count": null,
      "outputs": [
        {
          "output_type": "execute_result",
          "data": {
            "text/plain": [
              "<matplotlib.image.AxesImage at 0x791f865c0450>"
            ]
          },
          "metadata": {},
          "execution_count": 7
        },
        {
          "output_type": "display_data",
          "data": {
            "text/plain": [
              "<Figure size 200x200 with 1 Axes>"
            ],
            "image/png": "[encoded data removed]"
          },
          "metadata": {}
        }
      ]
    },
    {
      "cell_type": "code",
      "source": [
        "# illustrating the first entry in Xtest set\n",
        "plt.figure(figsize=(2,2))\n",
        "plt.imshow(Xtrain[0,:,:],cmap='gray')"
      ],
      "metadata": {
        "colab": {
          "base_uri": "https://localhost:8080/",
          "height": 235
        },
        "id": "tuOS-Cp0spSF",
        "outputId": "d9919978-fa26-4f89-bee1-159de950bafe"
      },
      "execution_count": null,
      "outputs": [
        {
          "output_type": "execute_result",
          "data": {
            "text/plain": [
              "<matplotlib.image.AxesImage at 0x791f866139d0>"
            ]
          },
          "metadata": {},
          "execution_count": 8
        },
        {
          "output_type": "display_data",
          "data": {
            "text/plain": [
              "<Figure size 200x200 with 1 Axes>"
            ],
            "image/png": "[encoded data removed]"
          },
          "metadata": {}
        }
      ]
    },
    {
      "cell_type": "markdown",
      "source": [
        "255 is the maximum value a pixel can have in an 8-bit storage system i.e. 2^8 = 256 thus the range is 0 (black) to 255 (white)"
      ],
      "metadata": {
        "id": "T64ppjGiuhhr"
      }
    },
    {
      "cell_type": "code",
      "source": [
        "# Viewing the number of entires in the ytrain set per class\n",
        "pd.DataFrame(ytrain)[0].value_counts()"
      ],
      "metadata": {
        "colab": {
          "base_uri": "https://localhost:8080/",
          "height": 428
        },
        "id": "sV5KERhGrFRf",
        "outputId": "ebdb7f19-eb6f-4e3e-d0c1-72b9c38f77b2"
      },
      "execution_count": null,
      "outputs": [
        {
          "output_type": "execute_result",
          "data": {
            "text/plain": [
              "0\n",
              "1    6742\n",
              "7    6265\n",
              "3    6131\n",
              "2    5958\n",
              "9    5949\n",
              "0    5923\n",
              "6    5918\n",
              "8    5851\n",
              "4    5842\n",
              "5    5421\n",
              "Name: count, dtype: int64"
            ],
            "text/html": [
              "<div>\n",
              "<style scoped>\n",
              "    .dataframe tbody tr th:only-of-type {\n",
              "        vertical-align: middle;\n",
              "    }\n",
              "\n",
              "    .dataframe tbody tr th {\n",
              "        vertical-align: top;\n",
              "    }\n",
              "\n",
              "    .dataframe thead th {\n",
              "        text-align: right;\n",
              "    }\n",
              "</style>\n",
              "<table border=\"1\" class=\"dataframe\">\n",
              "  <thead>\n",
              "    <tr style=\"text-align: right;\">\n",
              "      <th></th>\n",
              "      <th>count</th>\n",
              "    </tr>\n",
              "    <tr>\n",
              "      <th>0</th>\n",
              "      <th></th>\n",
              "    </tr>\n",
              "  </thead>\n",
              "  <tbody>\n",
              "    <tr>\n",
              "      <th>1</th>\n",
              "      <td>6742</td>\n",
              "    </tr>\n",
              "    <tr>\n",
              "      <th>7</th>\n",
              "      <td>6265</td>\n",
              "    </tr>\n",
              "    <tr>\n",
              "      <th>3</th>\n",
              "      <td>6131</td>\n",
              "    </tr>\n",
              "    <tr>\n",
              "      <th>2</th>\n",
              "      <td>5958</td>\n",
              "    </tr>\n",
              "    <tr>\n",
              "      <th>9</th>\n",
              "      <td>5949</td>\n",
              "    </tr>\n",
              "    <tr>\n",
              "      <th>0</th>\n",
              "      <td>5923</td>\n",
              "    </tr>\n",
              "    <tr>\n",
              "      <th>6</th>\n",
              "      <td>5918</td>\n",
              "    </tr>\n",
              "    <tr>\n",
              "      <th>8</th>\n",
              "      <td>5851</td>\n",
              "    </tr>\n",
              "    <tr>\n",
              "      <th>4</th>\n",
              "      <td>5842</td>\n",
              "    </tr>\n",
              "    <tr>\n",
              "      <th>5</th>\n",
              "      <td>5421</td>\n",
              "    </tr>\n",
              "  </tbody>\n",
              "</table>\n",
              "</div><br><label><b>dtype:</b> int64</label>"
            ]
          },
          "metadata": {},
          "execution_count": 9
        }
      ]
    },
    {
      "cell_type": "code",
      "execution_count": null,
      "metadata": {
        "id": "hk6D4F6zp_C-"
      },
      "outputs": [],
      "source": [
        "# Changing the data from 28X28 pixel pictures to an array of vectors.columns.\n",
        "# This is because the Deep Neural Network backend only can receive inputs as vectors\n",
        "\n",
        "x_train = Xtrain.reshape(Xtrain.shape[0], (28*28)).astype('float32') #creating a single row and each\n",
        "#                                                                     value in the matrix array of 28X28 into a column\n",
        "#                                                                     Each row will be a new data entry/sample\n",
        "x_test = Xtest.reshape(Xtest.shape[0], (28*28)).astype('float32')"
      ]
    },
    {
      "cell_type": "code",
      "source": [
        "x_train.shape"
      ],
      "metadata": {
        "colab": {
          "base_uri": "https://localhost:8080/"
        },
        "id": "MciGU6KlxQk0",
        "outputId": "a5c77152-a049-4706-8c8e-22e3f0516198"
      },
      "execution_count": null,
      "outputs": [
        {
          "output_type": "execute_result",
          "data": {
            "text/plain": [
              "(60000, 784)"
            ]
          },
          "metadata": {},
          "execution_count": 17
        }
      ]
    },
    {
      "cell_type": "markdown",
      "source": [
        "Clearly, now I have created a data set that can actually be analysed with pixel of row 1, col 1 being column 1 and this repeats upon pixel in row 28, col 28 od each picture."
      ],
      "metadata": {
        "id": "_-uu651Cxep0"
      }
    },
    {
      "cell_type": "code",
      "source": [
        "x_test.shape"
      ],
      "metadata": {
        "colab": {
          "base_uri": "https://localhost:8080/"
        },
        "id": "JEPcSveBxxpY",
        "outputId": "bed2a155-af27-4cff-bc0a-5d4a61cace79"
      },
      "execution_count": null,
      "outputs": [
        {
          "output_type": "execute_result",
          "data": {
            "text/plain": [
              "(10000, 784)"
            ]
          },
          "metadata": {},
          "execution_count": 18
        }
      ]
    },
    {
      "cell_type": "code",
      "source": [
        "# We now have to standardize the data to be between 0 and 1 by dividing each entry by 255.\n",
        "# This is to minimise the Diminishing Gradient Problem usually faced by Deep Neural Networks\n",
        "\n",
        "x_train = x_train/255\n",
        "x_test = x_test/255"
      ],
      "metadata": {
        "id": "qE7UhZEs1K0G"
      },
      "execution_count": null,
      "outputs": []
    },
    {
      "cell_type": "code",
      "source": [
        "# We now have to do One-hot encoding of the y-variables.\n",
        "# This will create a maximum value of 1 for each of the columns (0 to 9)\n",
        "# and there by each row will have a total of all its columns as 1 and thus easy to transform into probabilities\n",
        "\n",
        "y_train = keras.utils.to_categorical(ytrain,10) #One-Hot Encoding using Tensorflow\n",
        "y_test = keras.utils.to_categorical(ytest,10)"
      ],
      "metadata": {
        "id": "Kx_ogRnQ6Z--"
      },
      "execution_count": null,
      "outputs": []
    },
    {
      "cell_type": "code",
      "source": [
        "# Initiating the model\n",
        "model1 = Sequential()"
      ],
      "metadata": {
        "id": "emnXJLpTxTAD"
      },
      "execution_count": null,
      "outputs": []
    },
    {
      "cell_type": "code",
      "source": [
        "# Defining the Neural Network\n",
        "model1.add(Dense(784,activation = 'relu')) #This instructs that the first hidden layer will be\n",
        "#                                           connected to all inputs and the ReLU activation function will be used\n",
        "model1.add(Dense(100,activation = 'relu')) # The '100' instructs the second hidden layer to only pick 100 inputs from the\n",
        "#                                           first hidden layer. The '100' and activation function choice are hyperparameters\n",
        "#                                           that you can keep adjusting in a bid to find the combination that will minimise loss most\n",
        "model1.add(Dense(10,activation='softmax')) # 10 is picked because we want an output layer of 10 neurons. Softmax is the final algorithm.\n",
        "\n",
        "# 'Dense' ensures that all the neurons in the layer are connected to each of the neurons on the layer before and the layer after."
      ],
      "metadata": {
        "id": "Q5QZHY_J7UH3"
      },
      "execution_count": null,
      "outputs": []
    },
    {
      "cell_type": "code",
      "source": [
        "# Compiling the model and defining what loss function to use.\n",
        "model1.compile(optimizer='adam',loss='categorical_crossentropy',metrics=['accuracy'])\n",
        "# The loss in categorical problems can be 'categorical_crossentropy, binary_crossentropy'.\n",
        "# For regression problems, we use Mean sum of squared error.\n",
        "# Metrics can be accuracy, recall, precision or F1-score based on the problem at hand.\n",
        "# The optimizer function is what drives you to the minimum of the error function."
      ],
      "metadata": {
        "id": "1UnXT8bHF_b_"
      },
      "execution_count": null,
      "outputs": []
    },
    {
      "cell_type": "code",
      "source": [
        "model1.fit(x_train,y_train,epochs=10,batch_size=256, verbose = 1)\n",
        "  # epochs; determines the number of time the model must read and re-read the data as it continuously fine tunes the\n",
        "  #         parameters and errors made in the previous read. This allows for the model to learn all the patterns in the data.\n",
        "  # batch_size; this tries to speed up processing time by breaking up the data into blocks (60,000/256 for this case) and\n",
        "  #             these are feed into the model one at a time and at the end of reading all blocks, the model optimizes the\n",
        "  #             parameters to minimize the error. each block is loaded into memory one at a time thus preventing an overload of\n",
        "  #             memory when working on very large datasets.\n",
        "  # Verbose; this specifies whether or not you did like to see the performance of each epochs iteration. verbose= 0 means you dont see"
      ],
      "metadata": {
        "colab": {
          "base_uri": "https://localhost:8080/"
        },
        "id": "HNHw422RIhQY",
        "outputId": "17f3b7c2-4ebc-41f7-e84e-7c34e65b600e"
      },
      "execution_count": null,
      "outputs": [
        {
          "output_type": "stream",
          "name": "stdout",
          "text": [
            "Epoch 1/10\n",
            "\u001b[1m235/235\u001b[0m \u001b[32m━━━━━━━━━━━━━━━━━━━━\u001b[0m\u001b[37m\u001b[0m \u001b[1m7s\u001b[0m 25ms/step - accuracy: 0.8476 - loss: 0.5242\n",
            "Epoch 2/10\n",
            "\u001b[1m235/235\u001b[0m \u001b[32m━━━━━━━━━━━━━━━━━━━━\u001b[0m\u001b[37m\u001b[0m \u001b[1m11s\u001b[0m 26ms/step - accuracy: 0.9693 - loss: 0.1027\n",
            "Epoch 3/10\n",
            "\u001b[1m235/235\u001b[0m \u001b[32m━━━━━━━━━━━━━━━━━━━━\u001b[0m\u001b[37m\u001b[0m \u001b[1m9s\u001b[0m 21ms/step - accuracy: 0.9815 - loss: 0.0636\n",
            "Epoch 4/10\n",
            "\u001b[1m235/235\u001b[0m \u001b[32m━━━━━━━━━━━━━━━━━━━━\u001b[0m\u001b[37m\u001b[0m \u001b[1m6s\u001b[0m 26ms/step - accuracy: 0.9884 - loss: 0.0411\n",
            "Epoch 5/10\n",
            "\u001b[1m235/235\u001b[0m \u001b[32m━━━━━━━━━━━━━━━━━━━━\u001b[0m\u001b[37m\u001b[0m \u001b[1m10s\u001b[0m 26ms/step - accuracy: 0.9907 - loss: 0.0294\n",
            "Epoch 6/10\n",
            "\u001b[1m235/235\u001b[0m \u001b[32m━━━━━━━━━━━━━━━━━━━━\u001b[0m\u001b[37m\u001b[0m \u001b[1m5s\u001b[0m 21ms/step - accuracy: 0.9939 - loss: 0.0214\n",
            "Epoch 7/10\n",
            "\u001b[1m235/235\u001b[0m \u001b[32m━━━━━━━━━━━━━━━━━━━━\u001b[0m\u001b[37m\u001b[0m \u001b[1m5s\u001b[0m 21ms/step - accuracy: 0.9965 - loss: 0.0128\n",
            "Epoch 8/10\n",
            "\u001b[1m235/235\u001b[0m \u001b[32m━━━━━━━━━━━━━━━━━━━━\u001b[0m\u001b[37m\u001b[0m \u001b[1m6s\u001b[0m 26ms/step - accuracy: 0.9969 - loss: 0.0108\n",
            "Epoch 9/10\n",
            "\u001b[1m235/235\u001b[0m \u001b[32m━━━━━━━━━━━━━━━━━━━━\u001b[0m\u001b[37m\u001b[0m \u001b[1m5s\u001b[0m 21ms/step - accuracy: 0.9974 - loss: 0.0092\n",
            "Epoch 10/10\n",
            "\u001b[1m235/235\u001b[0m \u001b[32m━━━━━━━━━━━━━━━━━━━━\u001b[0m\u001b[37m\u001b[0m \u001b[1m6s\u001b[0m 26ms/step - accuracy: 0.9971 - loss: 0.0090\n"
          ]
        },
        {
          "output_type": "execute_result",
          "data": {
            "text/plain": [
              "<keras.src.callbacks.history.History at 0x791f83b30290>"
            ]
          },
          "metadata": {},
          "execution_count": 36
        }
      ]
    },
    {
      "cell_type": "code",
      "source": [
        "# Evaluating model on Test set\n",
        "loss, acc = model.evaluate(x_test,y_test,verbose=0)\n",
        "print('Test Accuracy: %.3f' % acc)\n",
        "print('Test Loss: %.3f' % loss)"
      ],
      "metadata": {
        "colab": {
          "base_uri": "https://localhost:8080/"
        },
        "id": "9eVLknG-OXqN",
        "outputId": "824efeb1-99f4-43fd-b6a8-771d4b02b562"
      },
      "execution_count": null,
      "outputs": [
        {
          "output_type": "stream",
          "name": "stdout",
          "text": [
            "Test Accuracy: 0.979\n",
            "Test Loss: 0.115\n"
          ]
        }
      ]
    },
    {
      "cell_type": "code",
      "source": [
        "# Initiating the model2\n",
        "model2 = Sequential()"
      ],
      "metadata": {
        "id": "YU3DgTQhac53"
      },
      "execution_count": null,
      "outputs": []
    },
    {
      "cell_type": "code",
      "source": [
        "# Defining the Neural Network\n",
        "model2.add(Dense(784,activation = 'sigmoid'))\n",
        "model2.add(Dense(100,activation = 'sigmoid'))\n",
        "model2.add(Dense(10,activation='softmax'))"
      ],
      "metadata": {
        "id": "VIgV_4laX9MQ"
      },
      "execution_count": null,
      "outputs": []
    },
    {
      "cell_type": "code",
      "source": [
        "# Compiling the model and defining what loss function to use.\n",
        "model2.compile(optimizer='adam',loss='categorical_crossentropy',metrics=['accuracy'])"
      ],
      "metadata": {
        "id": "4tyPkAO5ZdL7"
      },
      "execution_count": null,
      "outputs": []
    },
    {
      "cell_type": "code",
      "source": [
        "model2.fit(x_train,y_train,epochs=10,batch_size=256, verbose = 1)"
      ],
      "metadata": {
        "colab": {
          "base_uri": "https://localhost:8080/"
        },
        "id": "7yFztIXlZlf4",
        "outputId": "9c45cce1-fcbd-4f40-9b91-7c7a9055a832"
      },
      "execution_count": null,
      "outputs": [
        {
          "output_type": "stream",
          "name": "stdout",
          "text": [
            "Epoch 1/10\n",
            "\u001b[1m235/235\u001b[0m \u001b[32m━━━━━━━━━━━━━━━━━━━━\u001b[0m\u001b[37m\u001b[0m \u001b[1m8s\u001b[0m 27ms/step - accuracy: 0.7081 - loss: 1.1402\n",
            "Epoch 2/10\n",
            "\u001b[1m235/235\u001b[0m \u001b[32m━━━━━━━━━━━━━━━━━━━━\u001b[0m\u001b[37m\u001b[0m \u001b[1m5s\u001b[0m 21ms/step - accuracy: 0.9173 - loss: 0.2939\n",
            "Epoch 3/10\n",
            "\u001b[1m235/235\u001b[0m \u001b[32m━━━━━━━━━━━━━━━━━━━━\u001b[0m\u001b[37m\u001b[0m \u001b[1m6s\u001b[0m 26ms/step - accuracy: 0.9348 - loss: 0.2230\n",
            "Epoch 4/10\n",
            "\u001b[1m235/235\u001b[0m \u001b[32m━━━━━━━━━━━━━━━━━━━━\u001b[0m\u001b[37m\u001b[0m \u001b[1m5s\u001b[0m 22ms/step - accuracy: 0.9488 - loss: 0.1752\n",
            "Epoch 5/10\n",
            "\u001b[1m235/235\u001b[0m \u001b[32m━━━━━━━━━━━━━━━━━━━━\u001b[0m\u001b[37m\u001b[0m \u001b[1m5s\u001b[0m 21ms/step - accuracy: 0.9582 - loss: 0.1433\n",
            "Epoch 6/10\n",
            "\u001b[1m235/235\u001b[0m \u001b[32m━━━━━━━━━━━━━━━━━━━━\u001b[0m\u001b[37m\u001b[0m \u001b[1m6s\u001b[0m 26ms/step - accuracy: 0.9648 - loss: 0.1219\n",
            "Epoch 7/10\n",
            "\u001b[1m235/235\u001b[0m \u001b[32m━━━━━━━━━━━━━━━━━━━━\u001b[0m\u001b[37m\u001b[0m \u001b[1m10s\u001b[0m 26ms/step - accuracy: 0.9730 - loss: 0.0964\n",
            "Epoch 8/10\n",
            "\u001b[1m235/235\u001b[0m \u001b[32m━━━━━━━━━━━━━━━━━━━━\u001b[0m\u001b[37m\u001b[0m \u001b[1m5s\u001b[0m 21ms/step - accuracy: 0.9768 - loss: 0.0820\n",
            "Epoch 9/10\n",
            "\u001b[1m235/235\u001b[0m \u001b[32m━━━━━━━━━━━━━━━━━━━━\u001b[0m\u001b[37m\u001b[0m \u001b[1m5s\u001b[0m 23ms/step - accuracy: 0.9803 - loss: 0.0675\n",
            "Epoch 10/10\n",
            "\u001b[1m235/235\u001b[0m \u001b[32m━━━━━━━━━━━━━━━━━━━━\u001b[0m\u001b[37m\u001b[0m \u001b[1m10s\u001b[0m 21ms/step - accuracy: 0.9829 - loss: 0.0598\n"
          ]
        },
        {
          "output_type": "execute_result",
          "data": {
            "text/plain": [
              "<keras.src.callbacks.history.History at 0x791f7231b4d0>"
            ]
          },
          "metadata": {},
          "execution_count": 41
        }
      ]
    },
    {
      "cell_type": "code",
      "source": [
        "# Evaluating model on Test set\n",
        "loss, acc = model2.evaluate(x_test,y_test,verbose=0)\n",
        "print('Test Accuracy: %.3f' % acc)\n",
        "print('Test Loss: %.3f' % loss)"
      ],
      "metadata": {
        "colab": {
          "base_uri": "https://localhost:8080/"
        },
        "id": "m6SBOSEvaNww",
        "outputId": "00be311a-b760-4d8d-cd4a-23ad56937e08"
      },
      "execution_count": null,
      "outputs": [
        {
          "output_type": "stream",
          "name": "stdout",
          "text": [
            "Test Accuracy: 0.975\n",
            "Test Loss: 0.080\n"
          ]
        }
      ]
    },
    {
      "cell_type": "markdown",
      "source": [
        "Model2 of sigmoid Activation function has performed worse than model1 of ReLU function on the Test set due to a lower score on accuracy"
      ],
      "metadata": {
        "id": "uxHsVtzfbWag"
      }
    },
    {
      "cell_type": "code",
      "source": [
        "# getting the predictions of the model\n",
        "y_predicted = model1.predict(x_test)"
      ],
      "metadata": {
        "colab": {
          "base_uri": "https://localhost:8080/"
        },
        "id": "35dBxwwpbot8",
        "outputId": "369cd233-0c7b-4a22-b7b3-4373cb492143"
      },
      "execution_count": null,
      "outputs": [
        {
          "output_type": "stream",
          "name": "stdout",
          "text": [
            "\u001b[1m313/313\u001b[0m \u001b[32m━━━━━━━━━━━━━━━━━━━━\u001b[0m\u001b[37m\u001b[0m \u001b[1m1s\u001b[0m 3ms/step\n"
          ]
        }
      ]
    },
    {
      "cell_type": "code",
      "source": [
        "# getting the predicted pixel values of the first picture/data entry\n",
        "y_predicted[0]"
      ],
      "metadata": {
        "colab": {
          "base_uri": "https://localhost:8080/"
        },
        "id": "dsyPhLFCcAKh",
        "outputId": "e5cb779c-a315-4c97-ecc1-e454be48ab9f"
      },
      "execution_count": null,
      "outputs": [
        {
          "output_type": "execute_result",
          "data": {
            "text/plain": [
              "array([4.35427701e-11, 1.77408144e-09, 3.69747006e-08, 4.31214715e-07,\n",
              "       7.36597808e-14, 6.19462676e-11, 2.33290317e-16, 9.99999464e-01,\n",
              "       1.22385175e-11, 1.17644108e-08], dtype=float32)"
            ]
          },
          "metadata": {},
          "execution_count": 53
        }
      ]
    },
    {
      "cell_type": "code",
      "source": [
        "# getting the number denoted by the pixel values\n",
        "np.argmax(y_predicted[0])"
      ],
      "metadata": {
        "colab": {
          "base_uri": "https://localhost:8080/"
        },
        "id": "l78OqyatcJp-",
        "outputId": "0ac4fa16-0d33-4e96-86db-12a49d1834e3"
      },
      "execution_count": null,
      "outputs": [
        {
          "output_type": "execute_result",
          "data": {
            "text/plain": [
              "np.int64(7)"
            ]
          },
          "metadata": {},
          "execution_count": 54
        }
      ]
    },
    {
      "cell_type": "code",
      "source": [
        "# A better way to further verify the predictions is by using the confusion matrix on test set\n",
        "from sklearn.metrics import confusion_matrix\n",
        "\n",
        "# First Convert predicted probabilities to class labels\n",
        "y_predicted_labels = np.argmax(y_predicted, axis=1)\n",
        "confusion_matrix(y_test.argmax(axis=1), y_predicted_labels) #y_test also needs to be converted to\n",
        "#                                                            class label from one-hot encoded format\n"
      ],
      "metadata": {
        "colab": {
          "base_uri": "https://localhost:8080/"
        },
        "id": "yPV5dqiJbjN3",
        "outputId": "a6714630-678e-41a5-b989-3bad8bbb2c6d"
      },
      "execution_count": null,
      "outputs": [
        {
          "output_type": "execute_result",
          "data": {
            "text/plain": [
              "array([[ 974,    0,    1,    0,    0,    0,    3,    1,    1,    0],\n",
              "       [   0, 1128,    2,    0,    0,    1,    2,    1,    1,    0],\n",
              "       [   1,    2, 1019,    1,    1,    0,    2,    4,    1,    1],\n",
              "       [   0,    0,    6,  996,    0,    1,    0,    3,    2,    2],\n",
              "       [   3,    1,    2,    1,  951,    1,    7,    2,    0,   14],\n",
              "       [   2,    0,    0,   11,    0,  875,    2,    1,    1,    0],\n",
              "       [   2,    2,    1,    0,    1,   11,  939,    0,    2,    0],\n",
              "       [   0,    5,    9,    3,    0,    0,    0, 1004,    1,    6],\n",
              "       [   1,    1,    3,   10,    2,    8,    1,    3,  940,    5],\n",
              "       [   3,    2,    0,    6,    6,    2,    0,    6,    2,  982]])"
            ]
          },
          "metadata": {},
          "execution_count": 55
        }
      ]
    },
    {
      "cell_type": "markdown",
      "source": [
        "Majority of the predictions are correct because the numbers along the diagonal are largest. The ones off the diagonal represent the errors."
      ],
      "metadata": {
        "id": "z_eI6qmLfAwo"
      }
    },
    {
      "cell_type": "code",
      "source": [
        "# Getting the precision and recall for each class\n",
        "from sklearn.metrics import classification_report\n",
        "print(classification_report(y_test.argmax(axis=1), y_predicted_labels))"
      ],
      "metadata": {
        "colab": {
          "base_uri": "https://localhost:8080/"
        },
        "id": "co5HQcTBgsyL",
        "outputId": "6d10606c-3ec2-4b35-eb45-1ddcd8202254"
      },
      "execution_count": null,
      "outputs": [
        {
          "output_type": "stream",
          "name": "stdout",
          "text": [
            "              precision    recall  f1-score   support\n",
            "\n",
            "           0       0.99      0.99      0.99       980\n",
            "           1       0.99      0.99      0.99      1135\n",
            "           2       0.98      0.99      0.98      1032\n",
            "           3       0.97      0.99      0.98      1010\n",
            "           4       0.99      0.97      0.98       982\n",
            "           5       0.97      0.98      0.98       892\n",
            "           6       0.98      0.98      0.98       958\n",
            "           7       0.98      0.98      0.98      1028\n",
            "           8       0.99      0.97      0.98       974\n",
            "           9       0.97      0.97      0.97      1009\n",
            "\n",
            "    accuracy                           0.98     10000\n",
            "   macro avg       0.98      0.98      0.98     10000\n",
            "weighted avg       0.98      0.98      0.98     10000\n",
            "\n"
          ]
        }
      ]
    },
    {
      "cell_type": "markdown",
      "source": [
        "All the scores are greater than 95%"
      ],
      "metadata": {
        "id": "D6j5KXq6iXt2"
      }
    },
    {
      "cell_type": "markdown",
      "source": [
        "The scores were very high because the dataset was cleaned and thus free of noise. When datasets aren't cleaned, accuracy, recall and precision scores can plummet"
      ],
      "metadata": {
        "id": "RMp07Ca4jlUt"
      }
    },
    {
      "cell_type": "code",
      "source": [],
      "metadata": {
        "id": "uny3NZVuiTxP"
      },
      "execution_count": null,
      "outputs": []
    }
  ]
}